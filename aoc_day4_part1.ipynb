{
 "cells": [
  {
   "cell_type": "code",
   "execution_count": 89,
   "id": "724c30b1-d1de-4a80-bc54-429246c6d9ca",
   "metadata": {},
   "outputs": [
    {
     "name": "stdout",
     "output_type": "stream",
     "text": [
      "------------------------------------------\n",
      "2024, Day 4\n",
      "------------------------------------------\n",
      "horiz cnt: 882\n",
      "total count: 2567\n"
     ]
    }
   ],
   "source": [
    "path = 'C:/Users/akamath/Documents/AOC2024/input4.txt'\n",
    "file = open(path)\n",
    "print('------------------------------------------')\n",
    "print('2024, Day 4')\n",
    "print('------------------------------------------')\n",
    "\n",
    "lines = file.readlines()\n",
    "cnt = 0\n",
    "# Horizontal forwards and backwards\n",
    "for line in lines:\n",
    "    line = line.strip()\n",
    "    # Count forwards and backwards\n",
    "    cnt += line.count('XMAS')\n",
    "    cnt += line.count('SAMX')\n",
    "#Vertical forwards and backwards\n",
    "for i in range(len(lines[0].strip())):\n",
    "    # Count up and down\n",
    "    col = [line[i] for line in lines]\n",
    "    col = ''.join(col)\n",
    "    col = col.strip()\n",
    "    cnt += col.count('XMAS')\n",
    "    cnt += col.count('SAMX')\n",
    "# print ('horiz cnt:', cnt)\n",
    "\n",
    "tot_lines = len(lines)\n",
    "for i in range(tot_lines):\n",
    "    line = lines[i]\n",
    "    line_len = len(lines[i])\n",
    "    # Find all the instances of 'X' in line\n",
    "    x_inds = [y for y in range(len(line)) if line.startswith('X', y)]\n",
    "\n",
    "    #Now go through each x and do diagonal searches\n",
    "    for x in x_inds:\n",
    "        # bottom right diag search\n",
    "        if i+3 < tot_lines and x+3 < line_len:\n",
    "            # print(lines[i+1][x+1])\n",
    "            if (lines[i+1][x+1] == 'M' and lines[i+2][x+2] == 'A' and lines[i+3][x+3] == 'S'):\n",
    "                cnt += 1\n",
    "        #bottom left diag search\n",
    "        if i+3 < tot_lines and x-3 >= 0:\n",
    "            if (lines[i+1][x-1] == 'M' and lines[i+2][x-2] == 'A' and lines[i+3][x-3] == 'S'):\n",
    "                cnt += 1\n",
    "        #top right diag search\n",
    "        if i-3 >=0 and x+3 <= line_len:\n",
    "            if (lines[i-1][x+1] == 'M' and lines[i-2][x+2] == 'A' and lines[i-3][x+3] == 'S'):\n",
    "                cnt += 1\n",
    "        #top left diag search\n",
    "        if i-3 >=0 and x-3 >= 0:\n",
    "            if (lines[i-1][x-1] == 'M' and lines[i-2][x-2] == 'A' and lines[i-3][x-3] == 'S'):\n",
    "                cnt += 1\n",
    "        \n",
    "print('total count:', cnt) #2567\n"
   ]
  },
  {
   "cell_type": "code",
   "execution_count": null,
   "id": "646daedb-44a4-48bb-b159-87b4ad70cf78",
   "metadata": {},
   "outputs": [],
   "source": []
  }
 ],
 "metadata": {
  "kernelspec": {
   "display_name": "Python 3 (ipykernel)",
   "language": "python",
   "name": "python3"
  },
  "language_info": {
   "codemirror_mode": {
    "name": "ipython",
    "version": 3
   },
   "file_extension": ".py",
   "mimetype": "text/x-python",
   "name": "python",
   "nbconvert_exporter": "python",
   "pygments_lexer": "ipython3",
   "version": "3.9.19"
  }
 },
 "nbformat": 4,
 "nbformat_minor": 5
}
