{
 "cells": [
  {
   "cell_type": "code",
   "execution_count": 57,
   "id": "8a830c6c-f620-4c93-9153-5b0e58709fbe",
   "metadata": {},
   "outputs": [
    {
     "name": "stdout",
     "output_type": "stream",
     "text": [
      "------------------------------------------\n",
      "2024, Day 2, part 1\n",
      "------------------------------------------\n",
      "402\n",
      "------------------------------------------\n",
      "2024, Day 2, part 2\n",
      "------------------------------------------\n",
      "455\n"
     ]
    }
   ],
   "source": [
    "import copy\n",
    "#####\n",
    "# Check the safety by going through each number in levels\n",
    "# Returns True if safe, False if not\n",
    "####\n",
    "def check_safety(levels):\n",
    "    # First establish if increasing or decresing\n",
    "    increasing = False\n",
    "    d = int(levels[1]) - int(levels[0])\n",
    "    if d > 0: increasing = True\n",
    "\n",
    "    # if neither increasing or decreasing no need to check remaining numbers just move to next line\n",
    "    if d == 0:\n",
    "        return False\n",
    "        \n",
    "    # Now check diff is within 3\n",
    "    if abs(d) > 3: return False\n",
    "\n",
    "    # Now check rest of numbers\n",
    "    good = True\n",
    "    for i in range(1,len(levels)-1):\n",
    "        d = int(levels[i+1]) - int(levels[i])\n",
    "        # These 3 conditions have to be met\n",
    "        # If not set fail and bail to the next input\n",
    "        if d == 0 or d > 0 and not increasing or d < 0 and increasing or abs(d) > 3: \n",
    "            good = False\n",
    "            break\n",
    "    return good\n",
    "\n",
    "path = 'C:/Users/akamath/Documents/input2.txt'\n",
    "file = open(path)\n",
    "print('------------------------------------------')\n",
    "print('2024, Day 2, part 1')\n",
    "print('------------------------------------------')\n",
    "safe = 0\n",
    "while True:\n",
    "    line = file.readline().split()\n",
    "    if not line: break\n",
    "    \n",
    "    if check_safety(line):\n",
    "        safe += 1\n",
    "    else:\n",
    "        pass\n",
    "        # print(line, 'is UNSAFE')\n",
    "print(safe) # 402\n",
    "        \n",
    "print('------------------------------------------')\n",
    "print('2024, Day 2, part 2')\n",
    "print('------------------------------------------')\n",
    "\n",
    "#For part two you are allowed to remove one level per report to make any given report safe.\n",
    "#You can remove the first or last level of an already safe level and it'll still be safe so\n",
    "#just call this function by just removing one level at a time per input\n",
    "safe = 0\n",
    "file.close()\n",
    "file = open(path)\n",
    "while True:\n",
    "    line = file.readline().split()\n",
    "    if not line: break\n",
    "    \n",
    "    for i in range(len(line)):\n",
    "        l = copy.copy(line)\n",
    "        # Just start removing one item at a time starting at the beginning\n",
    "        del l[i]\n",
    "        if check_safety(l):\n",
    "            safe += 1\n",
    "            # No need to continue as this input is safe, go on to next input\n",
    "            break\n",
    "print(safe) # 455\n",
    "\n",
    "\n",
    "    "
   ]
  },
  {
   "cell_type": "code",
   "execution_count": null,
   "id": "95959b49-22c0-44e0-9f17-63a9c4ac2c95",
   "metadata": {},
   "outputs": [],
   "source": []
  },
  {
   "cell_type": "code",
   "execution_count": null,
   "id": "b336af2f-a630-4e7f-bf07-41ac5214169f",
   "metadata": {},
   "outputs": [],
   "source": []
  }
 ],
 "metadata": {
  "kernelspec": {
   "display_name": "Python 3 (ipykernel)",
   "language": "python",
   "name": "python3"
  },
  "language_info": {
   "codemirror_mode": {
    "name": "ipython",
    "version": 3
   },
   "file_extension": ".py",
   "mimetype": "text/x-python",
   "name": "python",
   "nbconvert_exporter": "python",
   "pygments_lexer": "ipython3",
   "version": "3.9.19"
  }
 },
 "nbformat": 4,
 "nbformat_minor": 5
}
