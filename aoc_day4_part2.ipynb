{
 "cells": [
  {
   "cell_type": "code",
   "execution_count": 5,
   "id": "c6523a51-358a-4d58-8fff-b0ba7b0f8ffb",
   "metadata": {},
   "outputs": [
    {
     "name": "stdout",
     "output_type": "stream",
     "text": [
      "------------------------------------------\n",
      "2024, Day 4 Part 2\n",
      "------------------------------------------\n",
      "total count: 2029\n"
     ]
    }
   ],
   "source": [
    "path = 'C:/Users/akamath/Documents/AOC2024/input4.txt'\n",
    "file = open(path)\n",
    "print('------------------------------------------')\n",
    "print('2024, Day 4 Part 2')\n",
    "print('------------------------------------------')\n",
    "\n",
    "lines = file.readlines()\n",
    "cnt = 0\n",
    "\n",
    "tot_lines = len(lines)\n",
    "# leave a 1 element boundary on all sides of the 'grid' of letters\n",
    "for i in range(1,tot_lines-1):\n",
    "    line = lines[i]\n",
    "    line_len = len(lines[i])\n",
    "    # Find all the instances of 'A' in line with a 1 element boundary\n",
    "    a_inds = [y for y in range(1, len(line)-1) if line.startswith('A', y)]\n",
    "    \n",
    "    #Now go through each A and do diagonal searches for MAS'es in an X shape\n",
    "    for x in a_inds:\n",
    "        # TL to BR\n",
    "        if (lines[i-1][x-1] == 'M' and lines[i+1][x+1] == 'S') or (lines[i-1][x-1] == 'S' and lines[i+1][x+1] == 'M'):\n",
    "            #TR to BL\n",
    "            if (lines[i-1][x+1] == 'M' and lines[i+1][x-1] == 'S') or (lines[i-1][x+1] == 'S' and lines[i+1][x-1] == 'M'):\n",
    "                cnt += 1\n",
    "        \n",
    "print('total count:', cnt) #2029\n"
   ]
  },
  {
   "cell_type": "code",
   "execution_count": null,
   "id": "f43bf56d-4930-48ee-8daa-0f8ce92d6df6",
   "metadata": {},
   "outputs": [],
   "source": []
  }
 ],
 "metadata": {
  "kernelspec": {
   "display_name": "Python 3 (ipykernel)",
   "language": "python",
   "name": "python3"
  },
  "language_info": {
   "codemirror_mode": {
    "name": "ipython",
    "version": 3
   },
   "file_extension": ".py",
   "mimetype": "text/x-python",
   "name": "python",
   "nbconvert_exporter": "python",
   "pygments_lexer": "ipython3",
   "version": "3.9.19"
  }
 },
 "nbformat": 4,
 "nbformat_minor": 5
}
